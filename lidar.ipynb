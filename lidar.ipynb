{
 "cells": [
  {
   "cell_type": "markdown",
   "id": "fa42666e",
   "metadata": {},
   "source": [
    "---"
   ]
  },
  {
   "cell_type": "markdown",
   "id": "bcf9d2d6",
   "metadata": {},
   "source": [
    "<p><img src=\"https://upload.wikimedia.org/wikipedia/commons/thumb/5/50/Oracle_logo.svg/2560px-Oracle_logo.svg.png\" width=\"200\" align = \"left\"></p>\n",
    "\n",
    "# **<h1 align =\"middle\"><b> Example Lidar Processing</b></h1>**\n"
   ]
  },
  {
   "cell_type": "markdown",
   "id": "ac5faa01",
   "metadata": {},
   "source": [
    "---"
   ]
  },
  {
   "cell_type": "code",
   "execution_count": null,
   "id": "a87443dd",
   "metadata": {},
   "outputs": [],
   "source": [
    "# !odsc conda init -b conda_environment_yolov5  -n frqap2zhtzbe -a resource_principal \n",
    "# !odsc conda publish -s tensorflow28_p38_gpu_v1 --force"
   ]
  },
  {
   "cell_type": "markdown",
   "id": "2b64c501",
   "metadata": {},
   "source": [
    "---"
   ]
  },
  {
   "cell_type": "markdown",
   "id": "da1d0bdc",
   "metadata": {},
   "source": [
    "# **1. Small example - Convert Las file and Create visualisation**"
   ]
  },
  {
   "cell_type": "code",
   "execution_count": null,
   "id": "df4583e1",
   "metadata": {},
   "outputs": [],
   "source": [
    "import pylas \n",
    "\n",
    "las = pylas.read('./input_files/in_las_1.las')    # use './in2017_04101720_12.las'\n",
    "las = pylas.convert(las)    \n",
    "las.write('out.las')"
   ]
  },
  {
   "cell_type": "code",
   "execution_count": null,
   "id": "45643aeb",
   "metadata": {},
   "outputs": [],
   "source": [
    "import numpy as np\n",
    "import laspy\n",
    "from mpl_toolkits.mplot3d import Axes3D\n",
    "import matplotlib.pyplot as plt\n",
    "\n",
    "# reading las file and copy points\n",
    "input_las = laspy.read('out.las')\n",
    "point_records = input_las.points.copy()"
   ]
  },
  {
   "cell_type": "code",
   "execution_count": null,
   "id": "a2e3befc",
   "metadata": {},
   "outputs": [],
   "source": [
    "x_mask_g = np.array(point_records.X)\n",
    "y_mask_g = np.array(point_records.Y)\n",
    "z_mask_g = np.array(point_records.Z)\n",
    "\n",
    "x = x_mask_g[:1000]\n",
    "y = y_mask_g[:1000]\n",
    "z = z_mask_g[:1000]\n",
    "\n",
    "fig_surf_g = plt.figure()\n",
    "ax = fig_surf_g.add_subplot(111, projection = '3d')\n",
    "ax.plot_trisurf(x, y, z)\n",
    "plt.title(\"Ground Surface\")\n",
    "\n",
    "plt.savefig(\"./save.png\")"
   ]
  },
  {
   "cell_type": "markdown",
   "id": "67b377e1",
   "metadata": {},
   "source": [
    "---"
   ]
  },
  {
   "cell_type": "markdown",
   "id": "36b91780",
   "metadata": {},
   "source": [
    "# **2. One script**"
   ]
  },
  {
   "cell_type": "code",
   "execution_count": null,
   "id": "3382ebcc",
   "metadata": {},
   "outputs": [],
   "source": [
    "!rm -r ./input_files\n",
    "!rm -r ./output_files"
   ]
  },
  {
   "cell_type": "code",
   "execution_count": null,
   "id": "91e6d66f",
   "metadata": {},
   "outputs": [],
   "source": [
    "%%writefile main.py\n",
    "import glob\n",
    "import pylas \n",
    "import numpy as np\n",
    "import laspy\n",
    "from mpl_toolkits.mplot3d import Axes3D\n",
    "import matplotlib.pyplot as plt\n",
    "import os\n",
    "import ocifs\n",
    "\n",
    "\n",
    "#create local folder\n",
    "path_input_locally = \"./input_files/\" \n",
    "\n",
    "try:       \n",
    "    if not os.path.exists(path_input_locally):         \n",
    "        os.makedirs(path_input_locally)    \n",
    "\n",
    "except OSError: \n",
    "    print ('Error: Creating directory files ocally')\n",
    "\n",
    "    \n",
    "path_output_locally = \"./output_files/\" \n",
    "\n",
    "try:       \n",
    "    if not os.path.exists(path_output_locally):         \n",
    "        os.makedirs(path_output_locally)    \n",
    "\n",
    "except OSError: \n",
    "    print ('Error: Creating directory files ocally')\n",
    "\n",
    "\n",
    "#get files from bucket and store locally\n",
    "\n",
    "def get_files_from_input_bucket(full_input_bucket):\n",
    "        \n",
    "    #get the files from the bucket and store locally\n",
    "    fs = ocifs.OCIFileSystem()\n",
    "    \n",
    "    #invalidate cache\n",
    "    fs.invalidate_cache(full_input_bucket)\n",
    "    \n",
    "    #copy files\n",
    "    all_files_in_bucket = fs.ls(full_input_bucket) #all files, including files that are not selected to run in experiment\n",
    "    print(all_files_in_bucket)\n",
    "    \n",
    "    #fetch files\n",
    "    fs.get(full_input_bucket, path_input_locally, recursive=True, refresh=True)  #store files in the bucket in \"./\" in Job Block storage\n",
    "    \n",
    "    return all_files_in_bucket\n",
    "\n",
    "#call function\n",
    "all_files_in_bucket = get_files_from_input_bucket(\"oci://West_BP@frqap2zhtzbe/lidar_data/\")\n",
    "\n",
    "#get file names only\n",
    "file_list = glob.glob(path_input_locally + \"*.las\")\n",
    "\n",
    "loopx = 1\n",
    "\n",
    "#### read files and convert file file\n",
    "for file in file_list:\n",
    "    \n",
    "    file_name = file\n",
    "    file_output_name = file\n",
    "    \n",
    "    print()\n",
    "    print(\"----------------------\")\n",
    "    print(\"file name \" + file_name)\n",
    "    print(\"file output name, after conversion\" + file_output_name)\n",
    "    \n",
    "    print(\"Convert \" + file_name)\n",
    "    \n",
    "    #read and convert las to laz\n",
    "    las = pylas.read(file_name)    \n",
    "    las = pylas.convert(las)    \n",
    "    las.write(file_output_name)\n",
    "    \n",
    "    # reading las file and copy points\n",
    "    print(\"Read \" + file_output_name)\n",
    "    input_las = laspy.read(file_output_name)\n",
    "    point_records = input_las.points.copy() \n",
    "    \n",
    "\n",
    "    x_mask_g = np.array(point_records.X)\n",
    "    y_mask_g = np.array(point_records.Y)\n",
    "    z_mask_g = np.array(point_records.Z)\n",
    "\n",
    "    x = x_mask_g[:90000]\n",
    "    y = y_mask_g[:90000]\n",
    "    z = z_mask_g[:90000]   \n",
    "\n",
    "    fig_surf_g = plt.figure()\n",
    "    ax = fig_surf_g.add_subplot(111, projection = '3d')\n",
    "    ax.plot_trisurf(x, y, z)\n",
    "    out_name = \"./output_files/\" + \"file_\" + str(loopx) + \".png\"\n",
    "    print(\"save image \" + out_name)\n",
    "    plt.savefig(out_name)\n",
    "    \n",
    "    loopx += 1\n",
    "    print(\"----------------------\")"
   ]
  },
  {
   "cell_type": "markdown",
   "id": "0d7c44fc",
   "metadata": {},
   "source": [
    "---"
   ]
  },
  {
   "cell_type": "markdown",
   "id": "4e03209d",
   "metadata": {},
   "source": [
    "# **3. Create OCI Data Science Job**"
   ]
  },
  {
   "cell_type": "code",
   "execution_count": null,
   "id": "b21e9a81",
   "metadata": {},
   "outputs": [],
   "source": [
    "from ads.jobs import Job, DataScienceJob, PythonRuntime\n",
    "\n",
    "job = (\n",
    "    Job(name=\"lidar_example_job\")\n",
    "    .with_infrastructure(\n",
    "        DataScienceJob()\n",
    "        .with_log_group_id(\"ocid1.loggroup.oc1.eu-frankfurt-1.amaaaaaangencdyajxalcuggjaug57r3ugare7olsk44ts2shyv7azqbxf4q\")                                                                                                 ###### Add here your Log Group OCID\n",
    "        .with_shape_name(\"VM.GPU.A10.1\")                                                                                                 \n",
    "        #.with_shape_config_details(memory_in_gbs=16, ocpus=5)\n",
    "        .with_block_storage_size(3000)\n",
    "    )\n",
    "    .with_runtime(\n",
    "        PythonRuntime()\n",
    "        .with_custom_conda(\"oci://conda_environment_yolov5@frqap2zhtzbe/conda_environments/gpu/TensorFlow 2.8 for GPU on Python 3.8/1.0/tensorflow28_p38_gpu_v1\")                                                                                             \n",
    "        .with_source(\"/home/datascience/1_projects/lidar/main.py\") \n",
    "        .with_output(\"output_files\", \"oci://West_BP@frqap2zhtzbe/lidar_data/ouput\")\n",
    "    )\n",
    ")\n",
    "\n",
    "job.create()"
   ]
  },
  {
   "cell_type": "markdown",
   "id": "33a7c056",
   "metadata": {},
   "source": [
    "# **4. Run Job**"
   ]
  },
  {
   "cell_type": "code",
   "execution_count": null,
   "id": "b7ac9e82",
   "metadata": {},
   "outputs": [],
   "source": [
    "## create buckets, input and output bucket. Upload .las file to input bucket"
   ]
  },
  {
   "cell_type": "code",
   "execution_count": null,
   "id": "9a6e23ff",
   "metadata": {},
   "outputs": [],
   "source": [
    "job_run = job.run()"
   ]
  },
  {
   "cell_type": "code",
   "execution_count": null,
   "id": "305e0ce6",
   "metadata": {},
   "outputs": [],
   "source": [
    "job_run.watch()"
   ]
  },
  {
   "cell_type": "code",
   "execution_count": null,
   "id": "50fbb7dc",
   "metadata": {},
   "outputs": [],
   "source": []
  },
  {
   "cell_type": "code",
   "execution_count": null,
   "id": "0b3373b4",
   "metadata": {},
   "outputs": [],
   "source": []
  }
 ],
 "metadata": {
  "kernelspec": {
   "display_name": "Python [conda env:tensorflow28_p38_gpu_v1]",
   "language": "python",
   "name": "conda-env-tensorflow28_p38_gpu_v1-py"
  },
  "language_info": {
   "codemirror_mode": {
    "name": "ipython",
    "version": 3
   },
   "file_extension": ".py",
   "mimetype": "text/x-python",
   "name": "python",
   "nbconvert_exporter": "python",
   "pygments_lexer": "ipython3",
   "version": "3.8.13"
  }
 },
 "nbformat": 4,
 "nbformat_minor": 5
}
